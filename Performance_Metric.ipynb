{
 "cells": [
  {
   "cell_type": "markdown",
   "id": "be47e00e",
   "metadata": {},
   "source": [
    "### LIBRARIES"
   ]
  },
  {
   "cell_type": "code",
   "execution_count": 1,
   "id": "0cf97930",
   "metadata": {},
   "outputs": [],
   "source": [
    "import numpy as np\n",
    "import pandas as pd\n",
    "from sklearn.metrics import log_loss"
   ]
  },
  {
   "cell_type": "markdown",
   "id": "6dfe6cd6",
   "metadata": {},
   "source": [
    "### LOSS"
   ]
  },
  {
   "cell_type": "code",
   "execution_count": 2,
   "id": "b5cc335b",
   "metadata": {},
   "outputs": [],
   "source": [
    "def aggregated_log_loss(\n",
    "    y_true,\n",
    "    y_pred\n",
    "):\n",
    "    \"\"\"\n",
    "    Calculate the aggregated logistic loss.\n",
    "    \n",
    "    Parameters\n",
    "    ----------\n",
    "    y_true\n",
    "        array-like or label indicator matrix. \n",
    "        Ground truth (correct) labels for n_samples samples.\n",
    "\n",
    "    y_pred\n",
    "        array-like of float, shape = (n_samples, n_classes) or (n_samples,)\n",
    "        Predicted probabilities, as returned by a classifier’s predict_proba method\n",
    "        \n",
    "    Returns\n",
    "    -------\n",
    "    mean_log_loss\n",
    "        The mean log loss for each label class.\n",
    "        \n",
    "    Notes\n",
    "    -----\n",
    "    https://scikit-learn.org/stable/modules/generated/sklearn.metrics.log_loss.html\n",
    "    \"\"\"\n",
    "    log_losses = []\n",
    "    for label in y_pred.columns:\n",
    "        log_losses.append(log_loss(y_true[label], y_pred[label]))\n",
    "    return np.array(log_losses).mean()"
   ]
  },
  {
   "cell_type": "markdown",
   "id": "64b374a7",
   "metadata": {},
   "source": [
    "### DATA"
   ]
  },
  {
   "cell_type": "code",
   "execution_count": 3,
   "id": "ce17a3c0",
   "metadata": {},
   "outputs": [],
   "source": [
    "metadata = pd.read_csv(\"data/metadata.csv\", index_col=\"sample_id\")"
   ]
  },
  {
   "cell_type": "code",
   "execution_count": 4,
   "id": "8d8d3975",
   "metadata": {},
   "outputs": [],
   "source": [
    "train_files = metadata[metadata[\"split\"] == \"train\"][\"features_path\"].to_dict()\n",
    "val_files = metadata[metadata[\"split\"] == \"val\"][\"features_path\"].to_dict()\n",
    "test_files = metadata[metadata[\"split\"] == \"test\"][\"features_path\"].to_dict()"
   ]
  },
  {
   "cell_type": "code",
   "execution_count": 5,
   "id": "1ba3ece4",
   "metadata": {},
   "outputs": [],
   "source": [
    "y_true = pd.read_csv(\"data/val_labels.csv\", index_col=\"sample_id\")\n",
    "y_pred = pd.read_csv(\"submissions/benchmark_logreg_c2_submission.csv\", index_col=\"sample_id\")\n",
    "\n",
    "# Select only the validation files.\n",
    "y_pred = y_pred.loc[y_true.index]"
   ]
  },
  {
   "cell_type": "code",
   "execution_count": 6,
   "id": "8b2f6a78",
   "metadata": {},
   "outputs": [
    {
     "data": {
      "text/plain": [
       "0.2278142295636966"
      ]
     },
     "execution_count": 6,
     "metadata": {},
     "output_type": "execute_result"
    }
   ],
   "source": [
    "aggregated_log_loss(y_true=y_true, y_pred=y_pred)"
   ]
  },
  {
   "cell_type": "code",
   "execution_count": null,
   "id": "2b4cf2e6",
   "metadata": {},
   "outputs": [],
   "source": []
  }
 ],
 "metadata": {
  "kernelspec": {
   "display_name": "Python 3 (ipykernel)",
   "language": "python",
   "name": "python3"
  },
  "language_info": {
   "codemirror_mode": {
    "name": "ipython",
    "version": 3
   },
   "file_extension": ".py",
   "mimetype": "text/x-python",
   "name": "python",
   "nbconvert_exporter": "python",
   "pygments_lexer": "ipython3",
   "version": "3.9.12"
  }
 },
 "nbformat": 4,
 "nbformat_minor": 5
}
